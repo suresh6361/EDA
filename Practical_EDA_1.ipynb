{
  "nbformat": 4,
  "nbformat_minor": 0,
  "metadata": {
    "colab": {
      "private_outputs": true,
      "provenance": []
    },
    "kernelspec": {
      "name": "python3",
      "display_name": "Python 3"
    },
    "language_info": {
      "name": "python"
    }
  },
  "cells": [
    {
      "cell_type": "markdown",
      "source": [
        "### import and load dataset"
      ],
      "metadata": {
        "id": "V_aCKJctUl6p"
      }
    },
    {
      "cell_type": "code",
      "source": [
        "import pandas as pd\n",
        "import numpy as np\n",
        "import matplotlib.pyplot as plt\n",
        "import seaborn as sns\n",
        "\n",
        "bike_details_df = pd.read_csv('/content/drive/MyDrive/PW-Skills/Nov-Assigments/EDA-1/BIKE DETAILS.csv')\n",
        "bike_details_df.head()"
      ],
      "metadata": {
        "id": "UgoCTMWEVUBO"
      },
      "execution_count": null,
      "outputs": []
    },
    {
      "cell_type": "code",
      "source": [
        "bike_details_df.shape"
      ],
      "metadata": {
        "id": "ZgHLhd0fWcYZ"
      },
      "execution_count": null,
      "outputs": []
    },
    {
      "cell_type": "markdown",
      "source": [
        "### Q1. What is the range of selling prices in the dataset?"
      ],
      "metadata": {
        "id": "dw1dmV0TTYMS"
      }
    },
    {
      "cell_type": "code",
      "execution_count": null,
      "metadata": {
        "id": "R7W_nDIWTXiT"
      },
      "outputs": [],
      "source": [
        "min_price = bike_details_df['selling_price'].min()\n",
        "max_price = bike_details_df['selling_price'].max()\n",
        "min_price, max_price"
      ]
    },
    {
      "cell_type": "markdown",
      "source": [
        "### Q2. What is the median selling price for bikes in the dataset?"
      ],
      "metadata": {
        "id": "mklpidSPTayG"
      }
    },
    {
      "cell_type": "code",
      "source": [
        "bike_details_df['selling_price'].median()"
      ],
      "metadata": {
        "id": "Gr25LezgVazl"
      },
      "execution_count": null,
      "outputs": []
    },
    {
      "cell_type": "markdown",
      "source": [
        "### Q3. What is the most common seller type?"
      ],
      "metadata": {
        "id": "fWrRTqBITav-"
      }
    },
    {
      "cell_type": "code",
      "source": [
        "bike_details_df['seller_type'].value_counts().idxmax()"
      ],
      "metadata": {
        "id": "zME70HG7VbUG"
      },
      "execution_count": null,
      "outputs": []
    },
    {
      "cell_type": "markdown",
      "source": [
        "### Q4. How many bikes have driven more than 50,000 kilometers?"
      ],
      "metadata": {
        "id": "imHp0USyTas4"
      }
    },
    {
      "cell_type": "code",
      "source": [
        "bike_details_df[bike_details_df['km_driven'] > 50000].shape[0]"
      ],
      "metadata": {
        "id": "C5b7FWT0VcD8"
      },
      "execution_count": null,
      "outputs": []
    },
    {
      "cell_type": "markdown",
      "source": [
        "### Q5. What is the average km_driven value for each ownership type?"
      ],
      "metadata": {
        "id": "CvuiIjRwTYVX"
      }
    },
    {
      "cell_type": "code",
      "source": [
        "bike_details_df.groupby('owner')['km_driven'].mean()"
      ],
      "metadata": {
        "id": "dzJG-_ZtVcYv"
      },
      "execution_count": null,
      "outputs": []
    },
    {
      "cell_type": "markdown",
      "source": [
        "### Q6. What proportion of bikes are from the year 2015 or older?"
      ],
      "metadata": {
        "id": "2WVR-nWFTYYT"
      }
    },
    {
      "cell_type": "code",
      "source": [
        "proportion_old = (bike_details_df[bike_details_df['year'] <= 2015].shape[0] / len(bike_details_df)) * 100\n",
        "proportion_old"
      ],
      "metadata": {
        "id": "jxPdeFtEVcuo"
      },
      "execution_count": null,
      "outputs": []
    },
    {
      "cell_type": "markdown",
      "source": [
        "### Q7. What is the trend of missing values across the dataset?"
      ],
      "metadata": {
        "id": "h0YFpOOrTYbj"
      }
    },
    {
      "cell_type": "code",
      "source": [
        "bike_details_df.isnull().sum()"
      ],
      "metadata": {
        "id": "Ai78G4_XVdFz"
      },
      "execution_count": null,
      "outputs": []
    },
    {
      "cell_type": "markdown",
      "source": [
        "### Q8. What is the highest ex_showroom_price recorded, and for which bike?"
      ],
      "metadata": {
        "id": "orafuGAsTYeG"
      }
    },
    {
      "cell_type": "code",
      "source": [
        "bike_details_df.loc[bike_details_df['ex_showroom_price'].idxmax(), ['name', 'ex_showroom_price']]"
      ],
      "metadata": {
        "id": "u09IEiKGVdlW"
      },
      "execution_count": null,
      "outputs": []
    },
    {
      "cell_type": "markdown",
      "source": [
        "### Q9. What is the total number of bikes listed by each seller type?"
      ],
      "metadata": {
        "id": "NcL_5-w1TYhC"
      }
    },
    {
      "cell_type": "code",
      "source": [
        "bike_details_df['seller_type'].value_counts()"
      ],
      "metadata": {
        "id": "s24b41_XVd6Z"
      },
      "execution_count": null,
      "outputs": []
    },
    {
      "cell_type": "markdown",
      "source": [
        "### Q10. What is the relationship between selling_price and km_driven for first-owner bikes?"
      ],
      "metadata": {
        "id": "m7hmM15TTYkW"
      }
    },
    {
      "cell_type": "code",
      "source": [
        "first_owner_bikes = bike_details_df[bike_details_df['owner'] == '1st owner']\n",
        "first_owner_bikes[['km_driven', 'selling_price']].corr()"
      ],
      "metadata": {
        "id": "E5LjaKCxVeRU"
      },
      "execution_count": null,
      "outputs": []
    },
    {
      "cell_type": "markdown",
      "source": [
        "### Q11. Identify and remove outliers in the km_driven column using the IQR method."
      ],
      "metadata": {
        "id": "MsxeJNBqTYnL"
      }
    },
    {
      "cell_type": "code",
      "source": [
        "Q1 = bike_details_df['km_driven'].quantile(0.25)\n",
        "Q3 = bike_details_df['km_driven'].quantile(0.75)\n",
        "IQR = Q3 - Q1\n",
        "no_outliers_df = bike_details_df[~((bike_details_df['km_driven'] < (Q1 - 1.5 * IQR)) |\n",
        "                                   (bike_details_df['km_driven'] > (Q3 + 1.5 * IQR)))]\n",
        "no_outliers_df.shape"
      ],
      "metadata": {
        "id": "66UDvEsfVfJs"
      },
      "execution_count": null,
      "outputs": []
    },
    {
      "cell_type": "markdown",
      "source": [
        "### Q12. Perform a bivariate analysis to visualize the relationship between year and selling_price."
      ],
      "metadata": {
        "id": "EtDVC4s8TYqi"
      }
    },
    {
      "cell_type": "code",
      "source": [
        "import seaborn as sns\n",
        "sns.scatterplot(data=bike_details_df, x='year', y='selling_price')\n",
        "plt.title('Year vs Selling Price')\n",
        "plt.show()"
      ],
      "metadata": {
        "id": "sfwkf4i-VflM"
      },
      "execution_count": null,
      "outputs": []
    },
    {
      "cell_type": "markdown",
      "source": [
        "### Q13. What is the average depreciation in selling price based on the bike's age (current year - manufacturing year)?"
      ],
      "metadata": {
        "id": "hSEnUhevTYtP"
      }
    },
    {
      "cell_type": "code",
      "source": [
        "import datetime\n",
        "current_year = datetime.datetime.now().year\n",
        "bike_details_df['bike_age'] = current_year - bike_details_df['year']\n",
        "bike_details_df.groupby('bike_age')['selling_price'].mean()"
      ],
      "metadata": {
        "id": "sFojoQFrVgIJ"
      },
      "execution_count": null,
      "outputs": []
    },
    {
      "cell_type": "markdown",
      "source": [
        "### Q14. Which bike names are priced significantly above the average price for their manufacturing year?"
      ],
      "metadata": {
        "id": "6M-o2rUATYvj"
      }
    },
    {
      "cell_type": "code",
      "source": [
        "avg_price_by_year = bike_details_df.groupby('year')['selling_price'].mean()\n",
        "high_priced_bikes = bike_details_df[bike_details_df.apply(\n",
        "    lambda row: row['selling_price'] > avg_price_by_year[row['year']], axis=1\n",
        ")]\n",
        "high_priced_bikes[['name', 'selling_price', 'year']]"
      ],
      "metadata": {
        "id": "TdShQHy_VgjI"
      },
      "execution_count": null,
      "outputs": []
    },
    {
      "cell_type": "markdown",
      "source": [
        "### Q15. Develop a correlation matrix for numeric columns and visualize it using a heatmap."
      ],
      "metadata": {
        "id": "q0u7BKK2TYyx"
      }
    },
    {
      "cell_type": "code",
      "source": [
        "correlation_matrix = bike_details_df[['selling_price', 'km_driven', 'year', 'ex_showroom_price']].corr()\n",
        "sns.heatmap(correlation_matrix, annot=True, cmap='coolwarm')\n",
        "plt.title('Correlation Matrix')\n",
        "plt.show()"
      ],
      "metadata": {
        "id": "EBr40e7fVhJI"
      },
      "execution_count": null,
      "outputs": []
    },
    {
      "cell_type": "code",
      "source": [],
      "metadata": {
        "id": "hAlrN-EYWGoM"
      },
      "execution_count": null,
      "outputs": []
    }
  ]
}