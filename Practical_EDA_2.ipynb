{
  "nbformat": 4,
  "nbformat_minor": 0,
  "metadata": {
    "colab": {
      "private_outputs": true,
      "provenance": []
    },
    "kernelspec": {
      "name": "python3",
      "display_name": "Python 3"
    },
    "language_info": {
      "name": "python"
    }
  },
  "cells": [
    {
      "cell_type": "markdown",
      "source": [
        "### import and load the dataset"
      ],
      "metadata": {
        "id": "ctak3Rv_p-Zk"
      }
    },
    {
      "cell_type": "code",
      "source": [
        "from google.colab import drive\n",
        "drive.mount('/content/drive')"
      ],
      "metadata": {
        "id": "pYUdo0rAqW2e"
      },
      "execution_count": null,
      "outputs": []
    },
    {
      "cell_type": "code",
      "source": [
        "import pandas as pd\n",
        "import numpy as np\n",
        "import seaborn as sns\n",
        "import matplotlib.pyplot as plt\n",
        "\n",
        "df = pd.read_csv('/content/drive/MyDrive/PW-Skills/Nov-Assigments/EDA-2/Car Sale.csv')\n",
        "df.head()"
      ],
      "metadata": {
        "id": "gdgH1jyXp-zQ"
      },
      "execution_count": null,
      "outputs": []
    },
    {
      "cell_type": "code",
      "source": [
        "df.shape"
      ],
      "metadata": {
        "id": "zq2rvXpVqvbO"
      },
      "execution_count": null,
      "outputs": []
    },
    {
      "cell_type": "markdown",
      "source": [
        "### Q1. What is the average selling price of cars for each dealer and how does it compare across different dealers?"
      ],
      "metadata": {
        "id": "kacDuM0cnm_Y"
      }
    },
    {
      "cell_type": "code",
      "execution_count": null,
      "metadata": {
        "id": "TpZxfOdwnk5o"
      },
      "outputs": [],
      "source": [
        "# Grouping by dealer name and calculating average selling price, then sorting by price\n",
        "df.groupby('Dealer_Name')['Price ($)'].mean().sort_values(ascending=False)"
      ]
    },
    {
      "cell_type": "markdown",
      "source": [
        "### Q2. Which car brand (Company) has the highest variation in prices, and what does this tell us about the pricing trends?"
      ],
      "metadata": {
        "id": "1CeK9A-inwrF"
      }
    },
    {
      "cell_type": "code",
      "source": [
        "# Calculating the price range (max - min) for each car brand\n",
        "df.groupby('Company')['Price ($)'].agg(['min', 'max', 'mean']).assign(price_range=lambda x: x['max'] - x['min'])"
      ],
      "metadata": {
        "id": "qa1Y8BUTnwTQ"
      },
      "execution_count": null,
      "outputs": []
    },
    {
      "cell_type": "markdown",
      "source": [
        "### Q3. What is the distribution of car prices for each transmission type, and how do the interquartile ranges compare?"
      ],
      "metadata": {
        "id": "OHzw-b2CnwMM"
      }
    },
    {
      "cell_type": "code",
      "source": [
        "# Plotting boxplot for car prices by transmission type to visualize distribution and interquartile ranges\n",
        "sns.boxplot(data=df, x='Transmission', y='Price ($)')"
      ],
      "metadata": {
        "id": "NDr5pz0cnwGC"
      },
      "execution_count": null,
      "outputs": []
    },
    {
      "cell_type": "markdown",
      "source": [
        "### Q4. What is the distribution of car prices across different regions?"
      ],
      "metadata": {
        "id": "vYn4f1W-nv_X"
      }
    },
    {
      "cell_type": "code",
      "source": [
        "# Plotting the distribution of car prices across different dealer regions\n",
        "df.boxplot(column='Price ($)', by='Dealer_Region', grid=False)"
      ],
      "metadata": {
        "id": "_dKMh78Qnv4t"
      },
      "execution_count": null,
      "outputs": []
    },
    {
      "cell_type": "markdown",
      "source": [
        "### Q5. What is the distribution of cars based on body styles?"
      ],
      "metadata": {
        "id": "iFFWHkEDnvyX"
      }
    },
    {
      "cell_type": "code",
      "source": [
        "# Getting the count of cars by body style\n",
        "df['Body Style'].value_counts()"
      ],
      "metadata": {
        "id": "hel-V-fHnvq_"
      },
      "execution_count": null,
      "outputs": []
    },
    {
      "cell_type": "markdown",
      "source": [
        "### Q6. How does the average selling price of cars vary by customer gender and annual income?"
      ],
      "metadata": {
        "id": "XVRhgtfmnvkt"
      }
    },
    {
      "cell_type": "code",
      "source": [
        "# Grouping by gender and calculating average price and annual income\n",
        "df.groupby('Gender').agg({'Price ($)': 'mean', 'Annual Income': 'mean'})"
      ],
      "metadata": {
        "id": "-aO9lxB1nvdl"
      },
      "execution_count": null,
      "outputs": []
    },
    {
      "cell_type": "markdown",
      "source": [
        "### Q7. What is the distribution of car prices by region, and how does the number of cars sold vary by region?"
      ],
      "metadata": {
        "id": "PbOREtACnvWu"
      }
    },
    {
      "cell_type": "code",
      "source": [
        "# Plotting distribution of car prices and counting number of cars sold by region\n",
        "fig, ax = plt.subplots(1, 2, figsize=(14, 6))\n",
        "sns.boxplot(data=df, x='Dealer_Region', y='Price ($)', ax=ax[0])\n",
        "df['Dealer_Region'].value_counts().plot(kind='bar', ax=ax[1])"
      ],
      "metadata": {
        "id": "oT0u1Ck5nvP-"
      },
      "execution_count": null,
      "outputs": []
    },
    {
      "cell_type": "markdown",
      "source": [
        "### Q8. How does the average car price differ between cars with different engine sizes?"
      ],
      "metadata": {
        "id": "23cAYUgZnvJu"
      }
    },
    {
      "cell_type": "code",
      "source": [
        "# Grouping by engine size and calculating average car price\n",
        "df.groupby('Engine')['Price ($)'].mean().sort_values(ascending=False)"
      ],
      "metadata": {
        "id": "orhYMf8rnvCY"
      },
      "execution_count": null,
      "outputs": []
    },
    {
      "cell_type": "markdown",
      "source": [
        "### Q9. How do car prices vary based on the customer’s annual income bracket?"
      ],
      "metadata": {
        "id": "_QUE_-PVnu7s"
      }
    },
    {
      "cell_type": "code",
      "source": [
        "# Creating income brackets and analyzing the average price within each bracket\n",
        "income_bins = [0, 30000, 60000, 100000, 150000, float('inf')]\n",
        "income_labels = ['0-30k', '30k-60k', '60k-100k', '100k-150k', '150k+']\n",
        "df['Income_Bracket'] = pd.cut(df['Annual Income'], bins=income_bins, labels=income_labels)\n",
        "df.groupby('Income_Bracket')['Price ($)'].mean()"
      ],
      "metadata": {
        "id": "xItA0rzDnu1M"
      },
      "execution_count": null,
      "outputs": []
    },
    {
      "cell_type": "markdown",
      "source": [
        "### Q10. What are the top 5 car models with the highest number of sales, and how does their price distribution look?"
      ],
      "metadata": {
        "id": "gmSZvteznuuM"
      }
    },
    {
      "cell_type": "code",
      "source": [
        "# Counting the number of sales per car model and plotting their price distributions\n",
        "top_5_models = df['Model'].value_counts().head(5).index\n",
        "sns.boxplot(data=df[df['Model'].isin(top_5_models)], x='Model', y='Price ($)')"
      ],
      "metadata": {
        "id": "ykIz1ci5nunW"
      },
      "execution_count": null,
      "outputs": []
    },
    {
      "cell_type": "markdown",
      "source": [
        "### Q11. How does car price vary with engine size across different car colors, and which colors have the highest price variation?"
      ],
      "metadata": {
        "id": "p_mjdmbVnugm"
      }
    },
    {
      "cell_type": "code",
      "source": [
        "# Plotting engine size vs price across different car colors and calculating price variation\n",
        "sns.scatterplot(data=df, x='Engine', y='Price ($)', hue='Color')\n",
        "df.groupby('Color')['Price ($)'].std().sort_values(ascending=False)"
      ],
      "metadata": {
        "id": "n93cHardnuZV"
      },
      "execution_count": null,
      "outputs": []
    },
    {
      "cell_type": "markdown",
      "source": [
        "### Q12. Is there any seasonal trend in car sales based on the date of sale?"
      ],
      "metadata": {
        "id": "k6IG38qenuSR"
      }
    },
    {
      "cell_type": "code",
      "source": [
        "# Extracting month and year from the sale date and plotting the sales trend\n",
        "df['Sale_Month'] = pd.to_datetime(df['Date']).dt.month\n",
        "df.groupby('Sale_Month').size().plot(kind='line', title=\"Car Sales by Month\")"
      ],
      "metadata": {
        "id": "UjMq1PfInuIM"
      },
      "execution_count": null,
      "outputs": []
    },
    {
      "cell_type": "markdown",
      "source": [
        "### Q13. How does the car price distribution change when considering different combinations of body style and transmission type?"
      ],
      "metadata": {
        "id": "7A5zeUTQnuCG"
      }
    },
    {
      "cell_type": "code",
      "source": [
        "# Plotting boxplots for price distribution by body style and transmission type combinations\n",
        "sns.boxplot(data=df, x='Body Style', y='Price ($)', hue='Transmission')"
      ],
      "metadata": {
        "id": "UCSpW-_Dnt7P"
      },
      "execution_count": null,
      "outputs": []
    },
    {
      "cell_type": "markdown",
      "source": [
        "### Q14. What is the correlation between car price, engine size, and annual income of customers, and how do these features interact?"
      ],
      "metadata": {
        "id": "8opmO5Dmnt0U"
      }
    },
    {
      "cell_type": "code",
      "source": [
        "# Check the data types to ensure numerical columns are correct\n",
        "print(df[['Price ($)', 'Engine', 'Annual Income']].dtypes)\n",
        "\n",
        "# Calculate correlation only for numeric columns\n",
        "correlation_matrix = df[['Price ($)', 'Engine', 'Annual Income']].corr()\n",
        "print(correlation_matrix)\n",
        "\n",
        "# Visualizing the correlation with a pairplot\n",
        "sns.pairplot(df[['Price ($)', 'Engine', 'Annual Income']])"
      ],
      "metadata": {
        "id": "JKC7YRF4nttl"
      },
      "execution_count": null,
      "outputs": []
    },
    {
      "cell_type": "markdown",
      "source": [
        "### Q15. How does the average car price vary across different car models and engine types?"
      ],
      "metadata": {
        "id": "Kn9TABfentnU"
      }
    },
    {
      "cell_type": "code",
      "source": [
        "# Grouping by Gender and Dealer Region, then calculating the average car price\n",
        "avg_price_by_gender_region = df.groupby(['Gender', 'Dealer_Region'])['Price ($)'].mean().unstack()\n",
        "\n",
        "# Storing the result in a DataFrame\n",
        "avg_price_df = pd.DataFrame(avg_price_by_gender_region)\n",
        "\n",
        "# Displaying the DataFrame\n",
        "avg_price_df"
      ],
      "metadata": {
        "id": "_osOQQymntg3"
      },
      "execution_count": null,
      "outputs": []
    },
    {
      "cell_type": "markdown",
      "source": [],
      "metadata": {
        "id": "O72jFOJbntaQ"
      }
    },
    {
      "cell_type": "code",
      "source": [],
      "metadata": {
        "id": "pKGoRpIintUY"
      },
      "execution_count": null,
      "outputs": []
    },
    {
      "cell_type": "markdown",
      "source": [],
      "metadata": {
        "id": "zB5z8HEAntNv"
      }
    },
    {
      "cell_type": "code",
      "source": [],
      "metadata": {
        "id": "mtkHx95entHV"
      },
      "execution_count": null,
      "outputs": []
    },
    {
      "cell_type": "markdown",
      "source": [],
      "metadata": {
        "id": "SYSl6m_ontBF"
      }
    },
    {
      "cell_type": "code",
      "source": [],
      "metadata": {
        "id": "3GhrQehKns6Q"
      },
      "execution_count": null,
      "outputs": []
    },
    {
      "cell_type": "markdown",
      "source": [],
      "metadata": {
        "id": "XC_IJ-4unsz0"
      }
    },
    {
      "cell_type": "code",
      "source": [],
      "metadata": {
        "id": "1w_CqqUenstV"
      },
      "execution_count": null,
      "outputs": []
    },
    {
      "cell_type": "markdown",
      "source": [],
      "metadata": {
        "id": "5RcoJ2rqnsml"
      }
    },
    {
      "cell_type": "code",
      "source": [],
      "metadata": {
        "id": "XNODbZJKnset"
      },
      "execution_count": null,
      "outputs": []
    },
    {
      "cell_type": "markdown",
      "source": [],
      "metadata": {
        "id": "d4Ueq_AfnsYK"
      }
    },
    {
      "cell_type": "code",
      "source": [],
      "metadata": {
        "id": "zOjlBsNUnsR4"
      },
      "execution_count": null,
      "outputs": []
    },
    {
      "cell_type": "markdown",
      "source": [],
      "metadata": {
        "id": "uq6-h6yrnsKG"
      }
    },
    {
      "cell_type": "code",
      "source": [],
      "metadata": {
        "id": "MqR50z5knsDO"
      },
      "execution_count": null,
      "outputs": []
    },
    {
      "cell_type": "markdown",
      "source": [],
      "metadata": {
        "id": "RL-SM1vHnr8P"
      }
    },
    {
      "cell_type": "code",
      "source": [],
      "metadata": {
        "id": "ISTu1jk7nr2U"
      },
      "execution_count": null,
      "outputs": []
    },
    {
      "cell_type": "markdown",
      "source": [],
      "metadata": {
        "id": "JvsxNzthnrqQ"
      }
    },
    {
      "cell_type": "code",
      "source": [],
      "metadata": {
        "id": "XgZUbyGjnriO"
      },
      "execution_count": null,
      "outputs": []
    },
    {
      "cell_type": "markdown",
      "source": [],
      "metadata": {
        "id": "_J8ZQn5enraM"
      }
    }
  ]
}