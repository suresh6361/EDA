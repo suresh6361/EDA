{
  "nbformat": 4,
  "nbformat_minor": 0,
  "metadata": {
    "colab": {
      "provenance": []
    },
    "kernelspec": {
      "name": "python3",
      "display_name": "Python 3"
    },
    "language_info": {
      "name": "python"
    }
  },
  "cells": [
    {
      "cell_type": "markdown",
      "source": [
        "**EDA-4 Assignment**"
      ],
      "metadata": {
        "id": "3CLYf7QqAVIR"
      }
    },
    {
      "cell_type": "markdown",
      "source": [
        "The dataset titled \"Spotify Data: Popular Hip-hop Artists and Tracks\" provides a curated collection of approximately 500 entries showcasing the vibrant realm of hip-hop music. These entries meticulously compile the most celebrated hip-hop tracks and artists, reflecting their significant influence on the genre's landscape. Each entry not only highlights the popularity and musical composition of the tracks but also underscores the creative prowess of the artists and their profound impact on global listeners.\n"
      ],
      "metadata": {
        "id": "WyxyE9yjAg8S"
      }
    },
    {
      "cell_type": "code",
      "source": [
        "##IMPORTS\n",
        "import numpy as np\n",
        "import pandas as pd\n",
        "import matplotlib.pyplot as plt\n",
        "import seaborn as sns\n",
        "from google.colab import drive\n",
        "\n",
        "import warnings\n",
        "warnings.filterwarnings('ignore')\n",
        "\n",
        "plt.style.use('ggplot') # Use stylesheet for plots\n",
        "#plt.style.use('fivethirtyeight')\n",
        "#pd.set_option('display.max_columns', 200)\n",
        "pd.set_option('display.max_rows', None)\n",
        "\n",
        "%matplotlib inline"
      ],
      "metadata": {
        "id": "OQ-V9lYqAZTk"
      },
      "execution_count": null,
      "outputs": []
    },
    {
      "cell_type": "code",
      "source": [
        "# Mount Google Drive\n",
        "drive.mount('/content/drive')"
      ],
      "metadata": {
        "colab": {
          "base_uri": "https://localhost:8080/"
        },
        "id": "6jaK8mHbAzPR",
        "outputId": "068a3eee-2c03-465d-fe74-4cb67b9f28d6"
      },
      "execution_count": null,
      "outputs": [
        {
          "output_type": "stream",
          "name": "stdout",
          "text": [
            "Mounted at /content/drive\n"
          ]
        }
      ]
    },
    {
      "cell_type": "code",
      "source": [
        "file_path = '/content/drive/MyDrive/Datasets /spotify.csv'  # Replace with your actual file path\n",
        "spotify_data = pd.read_csv(file_path)"
      ],
      "metadata": {
        "id": "-Jx-6Eq2BAz0",
        "colab": {
          "base_uri": "https://localhost:8080/",
          "height": 321
        },
        "outputId": "12a51a3c-cfa8-4e32-f2e5-520edbeefb8e"
      },
      "execution_count": null,
      "outputs": [
        {
          "output_type": "error",
          "ename": "FileNotFoundError",
          "evalue": "[Errno 2] No such file or directory: '/content/drive/MyDrive/Datasets /spotify.csv'",
          "traceback": [
            "\u001b[0;31m---------------------------------------------------------------------------\u001b[0m",
            "\u001b[0;31mFileNotFoundError\u001b[0m                         Traceback (most recent call last)",
            "\u001b[0;32m<ipython-input-3-778e5584690e>\u001b[0m in \u001b[0;36m<cell line: 2>\u001b[0;34m()\u001b[0m\n\u001b[1;32m      1\u001b[0m \u001b[0mfile_path\u001b[0m \u001b[0;34m=\u001b[0m \u001b[0;34m'/content/drive/MyDrive/Datasets /spotify.csv'\u001b[0m  \u001b[0;31m# Replace with your actual file path\u001b[0m\u001b[0;34m\u001b[0m\u001b[0;34m\u001b[0m\u001b[0m\n\u001b[0;32m----> 2\u001b[0;31m \u001b[0mspotify_data\u001b[0m \u001b[0;34m=\u001b[0m \u001b[0mpd\u001b[0m\u001b[0;34m.\u001b[0m\u001b[0mread_csv\u001b[0m\u001b[0;34m(\u001b[0m\u001b[0mfile_path\u001b[0m\u001b[0;34m)\u001b[0m\u001b[0;34m\u001b[0m\u001b[0;34m\u001b[0m\u001b[0m\n\u001b[0m",
            "\u001b[0;32m/usr/local/lib/python3.10/dist-packages/pandas/io/parsers/readers.py\u001b[0m in \u001b[0;36mread_csv\u001b[0;34m(filepath_or_buffer, sep, delimiter, header, names, index_col, usecols, dtype, engine, converters, true_values, false_values, skipinitialspace, skiprows, skipfooter, nrows, na_values, keep_default_na, na_filter, verbose, skip_blank_lines, parse_dates, infer_datetime_format, keep_date_col, date_parser, date_format, dayfirst, cache_dates, iterator, chunksize, compression, thousands, decimal, lineterminator, quotechar, quoting, doublequote, escapechar, comment, encoding, encoding_errors, dialect, on_bad_lines, delim_whitespace, low_memory, memory_map, float_precision, storage_options, dtype_backend)\u001b[0m\n\u001b[1;32m   1024\u001b[0m     \u001b[0mkwds\u001b[0m\u001b[0;34m.\u001b[0m\u001b[0mupdate\u001b[0m\u001b[0;34m(\u001b[0m\u001b[0mkwds_defaults\u001b[0m\u001b[0;34m)\u001b[0m\u001b[0;34m\u001b[0m\u001b[0;34m\u001b[0m\u001b[0m\n\u001b[1;32m   1025\u001b[0m \u001b[0;34m\u001b[0m\u001b[0m\n\u001b[0;32m-> 1026\u001b[0;31m     \u001b[0;32mreturn\u001b[0m \u001b[0m_read\u001b[0m\u001b[0;34m(\u001b[0m\u001b[0mfilepath_or_buffer\u001b[0m\u001b[0;34m,\u001b[0m \u001b[0mkwds\u001b[0m\u001b[0;34m)\u001b[0m\u001b[0;34m\u001b[0m\u001b[0;34m\u001b[0m\u001b[0m\n\u001b[0m\u001b[1;32m   1027\u001b[0m \u001b[0;34m\u001b[0m\u001b[0m\n\u001b[1;32m   1028\u001b[0m \u001b[0;34m\u001b[0m\u001b[0m\n",
            "\u001b[0;32m/usr/local/lib/python3.10/dist-packages/pandas/io/parsers/readers.py\u001b[0m in \u001b[0;36m_read\u001b[0;34m(filepath_or_buffer, kwds)\u001b[0m\n\u001b[1;32m    618\u001b[0m \u001b[0;34m\u001b[0m\u001b[0m\n\u001b[1;32m    619\u001b[0m     \u001b[0;31m# Create the parser.\u001b[0m\u001b[0;34m\u001b[0m\u001b[0;34m\u001b[0m\u001b[0m\n\u001b[0;32m--> 620\u001b[0;31m     \u001b[0mparser\u001b[0m \u001b[0;34m=\u001b[0m \u001b[0mTextFileReader\u001b[0m\u001b[0;34m(\u001b[0m\u001b[0mfilepath_or_buffer\u001b[0m\u001b[0;34m,\u001b[0m \u001b[0;34m**\u001b[0m\u001b[0mkwds\u001b[0m\u001b[0;34m)\u001b[0m\u001b[0;34m\u001b[0m\u001b[0;34m\u001b[0m\u001b[0m\n\u001b[0m\u001b[1;32m    621\u001b[0m \u001b[0;34m\u001b[0m\u001b[0m\n\u001b[1;32m    622\u001b[0m     \u001b[0;32mif\u001b[0m \u001b[0mchunksize\u001b[0m \u001b[0;32mor\u001b[0m \u001b[0miterator\u001b[0m\u001b[0;34m:\u001b[0m\u001b[0;34m\u001b[0m\u001b[0;34m\u001b[0m\u001b[0m\n",
            "\u001b[0;32m/usr/local/lib/python3.10/dist-packages/pandas/io/parsers/readers.py\u001b[0m in \u001b[0;36m__init__\u001b[0;34m(self, f, engine, **kwds)\u001b[0m\n\u001b[1;32m   1618\u001b[0m \u001b[0;34m\u001b[0m\u001b[0m\n\u001b[1;32m   1619\u001b[0m         \u001b[0mself\u001b[0m\u001b[0;34m.\u001b[0m\u001b[0mhandles\u001b[0m\u001b[0;34m:\u001b[0m \u001b[0mIOHandles\u001b[0m \u001b[0;34m|\u001b[0m \u001b[0;32mNone\u001b[0m \u001b[0;34m=\u001b[0m \u001b[0;32mNone\u001b[0m\u001b[0;34m\u001b[0m\u001b[0;34m\u001b[0m\u001b[0m\n\u001b[0;32m-> 1620\u001b[0;31m         \u001b[0mself\u001b[0m\u001b[0;34m.\u001b[0m\u001b[0m_engine\u001b[0m \u001b[0;34m=\u001b[0m \u001b[0mself\u001b[0m\u001b[0;34m.\u001b[0m\u001b[0m_make_engine\u001b[0m\u001b[0;34m(\u001b[0m\u001b[0mf\u001b[0m\u001b[0;34m,\u001b[0m \u001b[0mself\u001b[0m\u001b[0;34m.\u001b[0m\u001b[0mengine\u001b[0m\u001b[0;34m)\u001b[0m\u001b[0;34m\u001b[0m\u001b[0;34m\u001b[0m\u001b[0m\n\u001b[0m\u001b[1;32m   1621\u001b[0m \u001b[0;34m\u001b[0m\u001b[0m\n\u001b[1;32m   1622\u001b[0m     \u001b[0;32mdef\u001b[0m \u001b[0mclose\u001b[0m\u001b[0;34m(\u001b[0m\u001b[0mself\u001b[0m\u001b[0;34m)\u001b[0m \u001b[0;34m->\u001b[0m \u001b[0;32mNone\u001b[0m\u001b[0;34m:\u001b[0m\u001b[0;34m\u001b[0m\u001b[0;34m\u001b[0m\u001b[0m\n",
            "\u001b[0;32m/usr/local/lib/python3.10/dist-packages/pandas/io/parsers/readers.py\u001b[0m in \u001b[0;36m_make_engine\u001b[0;34m(self, f, engine)\u001b[0m\n\u001b[1;32m   1878\u001b[0m                 \u001b[0;32mif\u001b[0m \u001b[0;34m\"b\"\u001b[0m \u001b[0;32mnot\u001b[0m \u001b[0;32min\u001b[0m \u001b[0mmode\u001b[0m\u001b[0;34m:\u001b[0m\u001b[0;34m\u001b[0m\u001b[0;34m\u001b[0m\u001b[0m\n\u001b[1;32m   1879\u001b[0m                     \u001b[0mmode\u001b[0m \u001b[0;34m+=\u001b[0m \u001b[0;34m\"b\"\u001b[0m\u001b[0;34m\u001b[0m\u001b[0;34m\u001b[0m\u001b[0m\n\u001b[0;32m-> 1880\u001b[0;31m             self.handles = get_handle(\n\u001b[0m\u001b[1;32m   1881\u001b[0m                 \u001b[0mf\u001b[0m\u001b[0;34m,\u001b[0m\u001b[0;34m\u001b[0m\u001b[0;34m\u001b[0m\u001b[0m\n\u001b[1;32m   1882\u001b[0m                 \u001b[0mmode\u001b[0m\u001b[0;34m,\u001b[0m\u001b[0;34m\u001b[0m\u001b[0;34m\u001b[0m\u001b[0m\n",
            "\u001b[0;32m/usr/local/lib/python3.10/dist-packages/pandas/io/common.py\u001b[0m in \u001b[0;36mget_handle\u001b[0;34m(path_or_buf, mode, encoding, compression, memory_map, is_text, errors, storage_options)\u001b[0m\n\u001b[1;32m    871\u001b[0m         \u001b[0;32mif\u001b[0m \u001b[0mioargs\u001b[0m\u001b[0;34m.\u001b[0m\u001b[0mencoding\u001b[0m \u001b[0;32mand\u001b[0m \u001b[0;34m\"b\"\u001b[0m \u001b[0;32mnot\u001b[0m \u001b[0;32min\u001b[0m \u001b[0mioargs\u001b[0m\u001b[0;34m.\u001b[0m\u001b[0mmode\u001b[0m\u001b[0;34m:\u001b[0m\u001b[0;34m\u001b[0m\u001b[0;34m\u001b[0m\u001b[0m\n\u001b[1;32m    872\u001b[0m             \u001b[0;31m# Encoding\u001b[0m\u001b[0;34m\u001b[0m\u001b[0;34m\u001b[0m\u001b[0m\n\u001b[0;32m--> 873\u001b[0;31m             handle = open(\n\u001b[0m\u001b[1;32m    874\u001b[0m                 \u001b[0mhandle\u001b[0m\u001b[0;34m,\u001b[0m\u001b[0;34m\u001b[0m\u001b[0;34m\u001b[0m\u001b[0m\n\u001b[1;32m    875\u001b[0m                 \u001b[0mioargs\u001b[0m\u001b[0;34m.\u001b[0m\u001b[0mmode\u001b[0m\u001b[0;34m,\u001b[0m\u001b[0;34m\u001b[0m\u001b[0;34m\u001b[0m\u001b[0m\n",
            "\u001b[0;31mFileNotFoundError\u001b[0m: [Errno 2] No such file or directory: '/content/drive/MyDrive/Datasets /spotify.csv'"
          ]
        }
      ]
    },
    {
      "cell_type": "code",
      "source": [
        "# Display the first few rows of the DataFrame\n",
        "spotify_data.head()"
      ],
      "metadata": {
        "id": "GqZrF6F6BOtl"
      },
      "execution_count": null,
      "outputs": []
    },
    {
      "cell_type": "code",
      "source": [
        "# Initial inspection\n",
        "spotify_data.info()"
      ],
      "metadata": {
        "id": "bXcc78GjBP3a"
      },
      "execution_count": null,
      "outputs": []
    },
    {
      "cell_type": "markdown",
      "source": [
        "**Questions with Solutions**"
      ],
      "metadata": {
        "id": "1jEmeKIoDZ42"
      }
    },
    {
      "cell_type": "markdown",
      "source": [
        "1.Read the dataframe, check null value if present then do the needful, check duplicate row , if present then do the needful."
      ],
      "metadata": {
        "id": "mCzccY4QDf_Q"
      }
    },
    {
      "cell_type": "code",
      "source": [
        "# Checking for null values\n",
        "null_values = spotify_data.isnull().sum()\n",
        "\n",
        "# Checking for duplicate rows\n",
        "duplicate_rows = spotify_data.duplicated().sum()\n",
        "\n",
        "# Removing duplicates if any\n",
        "if duplicate_rows > 0:\n",
        "    spotify_data = spotify_data.drop_duplicates()\n",
        "\n",
        "print(\"Null Values per Column:\\n\", null_values)\n",
        "print(f\"Number of Duplicate Rows: {duplicate_rows}\")\n"
      ],
      "metadata": {
        "id": "IEH_kR3dCqgu"
      },
      "execution_count": null,
      "outputs": []
    },
    {
      "cell_type": "markdown",
      "source": [
        "2.What is the distribution of popularity among the tracks in the dataset? Visualize it using a histogram"
      ],
      "metadata": {
        "id": "OkYCVdaVDooA"
      }
    },
    {
      "cell_type": "code",
      "source": [
        "# Plotting the distribution of popularity\n",
        "plt.figure(figsize=(10, 6))\n",
        "sns.histplot(spotify_data['Popularity'], bins=20, kde=True, color='blue')\n",
        "plt.title('Distribution of Track Popularity')\n",
        "plt.xlabel('Popularity')\n",
        "plt.ylabel('Frequency')\n",
        "plt.show()\n"
      ],
      "metadata": {
        "id": "IkHM42i9Dtng"
      },
      "execution_count": null,
      "outputs": []
    },
    {
      "cell_type": "markdown",
      "source": [
        "3.Is there any relationship between the popularity and the duration of tracks? Explore this using a scatter plot."
      ],
      "metadata": {
        "id": "Z2e_XBcnD0EA"
      }
    },
    {
      "cell_type": "code",
      "source": [
        "# Scatter plot for popularity vs duration\n",
        "plt.figure(figsize=(10, 6))\n",
        "sns.scatterplot(x=spotify_data['Duration (ms)'], y=spotify_data['Popularity'], color='green')\n",
        "plt.title('Relationship Between Popularity and Duration of Tracks')\n",
        "plt.xlabel('Duration (ms)')\n",
        "plt.ylabel('Popularity')\n",
        "plt.show()\n"
      ],
      "metadata": {
        "id": "AFjRvD09D2gY"
      },
      "execution_count": null,
      "outputs": []
    },
    {
      "cell_type": "markdown",
      "source": [
        "4.Which artist has the highest number of tracks in the dataset? Display the count of tracks for each artist using a countplot"
      ],
      "metadata": {
        "id": "gAoIimG1EGuP"
      }
    },
    {
      "cell_type": "code",
      "source": [
        "# Count of tracks per artist\n",
        "top_artists = spotify_data['Artist'].value_counts()\n",
        "\n",
        "# Plotting the top 10 artists with the most tracks\n",
        "plt.figure(figsize=(12, 6))\n",
        "sns.countplot(y=spotify_data['Artist'],\n",
        "              order=spotify_data['Artist'].value_counts().head(10).index,\n",
        "              palette='viridis')\n",
        "plt.title('Top 10 Artists with the Most Tracks')\n",
        "plt.xlabel('Number of Tracks')\n",
        "plt.ylabel('Artist')\n",
        "plt.show()\n",
        "\n",
        "# Displaying the artist with the highest number of tracks\n",
        "most_tracks_artist = top_artists.idxmax()\n",
        "most_tracks_count = top_artists.max()\n",
        "print(f\"Artist with Most Tracks: {most_tracks_artist} ({most_tracks_count} tracks)\")\n"
      ],
      "metadata": {
        "id": "IWUz6754EJ6j"
      },
      "execution_count": null,
      "outputs": []
    },
    {
      "cell_type": "markdown",
      "source": [
        "5.What are the top 5 least popular tracks in the dataset? Provide the artist name and track name for each."
      ],
      "metadata": {
        "id": "nNR5niPyEOwd"
      }
    },
    {
      "cell_type": "code",
      "source": [
        "# Finding the 5 least popular tracks\n",
        "least_popular_tracks = spotify_data.nsmallest(5, 'Popularity')[['Artist', 'Track Name', 'Popularity']]\n",
        "print(\"Top 5 Least Popular Tracks:\\n\", least_popular_tracks)\n"
      ],
      "metadata": {
        "id": "L3QiN1swEQHz"
      },
      "execution_count": null,
      "outputs": []
    },
    {
      "cell_type": "markdown",
      "source": [
        "6.Among the top 5 most popular artists, which artist has the highest popularity on average? Calculate and display the average popularity for each artist."
      ],
      "metadata": {
        "id": "2UJORm8pEW3I"
      }
    },
    {
      "cell_type": "code",
      "source": [
        "# Top 5 artists by track count\n",
        "top_5_artists = spotify_data['Artist'].value_counts().head(5).index\n",
        "\n",
        "# Calculate average popularity for each of the top 5 artists\n",
        "average_popularity_top_artists = (\n",
        "    spotify_data[spotify_data['Artist'].isin(top_5_artists)]\n",
        "    .groupby('Artist')['Popularity']\n",
        "    .mean()\n",
        "    .sort_values(ascending=False)\n",
        ")\n",
        "\n",
        "print(\"Average Popularity for Top 5 Most Popular Artists:\\n\", average_popularity_top_artists)\n"
      ],
      "metadata": {
        "id": "fH_lAQUcEZvM"
      },
      "execution_count": null,
      "outputs": []
    },
    {
      "cell_type": "markdown",
      "source": [
        "7.For the top 5 most popular artists, what are their most popular tracks? List the track name for each artist.\n"
      ],
      "metadata": {
        "id": "3bLrsS8cEhHX"
      }
    },
    {
      "cell_type": "code",
      "source": [
        "# Finding the most popular track for each of the top 5 artists\n",
        "most_popular_tracks_top_artists = (\n",
        "    spotify_data[spotify_data['Artist'].isin(top_5_artists)]\n",
        "    .sort_values(by=['Artist', 'Popularity'], ascending=[True, False])\n",
        "    .groupby('Artist')\n",
        "    .first()\n",
        ")[['Track Name', 'Popularity']]\n",
        "\n",
        "print(\"Most Popular Tracks for Top 5 Artists:\\n\", most_popular_tracks_top_artists)\n"
      ],
      "metadata": {
        "id": "GX008LCHEjhe"
      },
      "execution_count": null,
      "outputs": []
    },
    {
      "cell_type": "markdown",
      "source": [
        "8.Visualize relationships between multiple numerical variables simultaneously using a pair plot."
      ],
      "metadata": {
        "id": "PUJhXVKmEnFK"
      }
    },
    {
      "cell_type": "code",
      "source": [
        "# Pair plot for numerical variables\n",
        "sns.pairplot(spotify_data[['Popularity', 'Duration (ms)']])\n",
        "plt.suptitle('Pair Plot of Numerical Variables', y=1.02)\n",
        "plt.show()\n"
      ],
      "metadata": {
        "id": "C75bUA87Ep1Z"
      },
      "execution_count": null,
      "outputs": []
    },
    {
      "cell_type": "markdown",
      "source": [
        "9.Does the duration of tracks vary significantly across different artists? Explore this visually using a box plot or violin plot.\n"
      ],
      "metadata": {
        "id": "mZ7wBUwNEtqD"
      }
    },
    {
      "cell_type": "code",
      "source": [
        "# Box plot for track duration across top 10 artists\n",
        "top_10_artists = spotify_data['Artist'].value_counts().head(10).index\n",
        "\n",
        "plt.figure(figsize=(12, 6))\n",
        "sns.boxplot(x='Artist', y='Duration (ms)',\n",
        "            data=spotify_data[spotify_data['Artist'].isin(top_10_artists)],\n",
        "            palette='Set3')\n",
        "plt.title('Variation of Track Duration Across Top Artists')\n",
        "plt.xlabel('Artist')\n",
        "plt.ylabel('Duration (ms)')\n",
        "plt.xticks(rotation=45)\n",
        "plt.show()\n"
      ],
      "metadata": {
        "id": "6VrQtMP5EwR-"
      },
      "execution_count": null,
      "outputs": []
    },
    {
      "cell_type": "markdown",
      "source": [
        "10.How does the distribution of track popularity vary for different artists? Visualize this using a swarm plot or a violin plot."
      ],
      "metadata": {
        "id": "dt6u959ME1fc"
      }
    },
    {
      "cell_type": "code",
      "source": [
        "# Swarm plot for popularity distribution across top 10 artists\n",
        "plt.figure(figsize=(12, 6))\n",
        "sns.violinplot(x='Artist', y='Popularity',\n",
        "               data=spotify_data[spotify_data['Artist'].isin(top_10_artists)],\n",
        "               inner='quartile', palette='muted')\n",
        "plt.title('Popularity Distribution Across Top Artists')\n",
        "plt.xlabel('Artist')\n",
        "plt.ylabel('Popularity')\n",
        "plt.xticks(rotation=45)\n",
        "plt.show()\n"
      ],
      "metadata": {
        "id": "kO-XIXPPE4n-"
      },
      "execution_count": null,
      "outputs": []
    }
  ]
}